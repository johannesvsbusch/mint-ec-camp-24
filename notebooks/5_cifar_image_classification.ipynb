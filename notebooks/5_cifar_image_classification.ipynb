{
 "cells": [
  {
   "cell_type": "code",
   "execution_count": 5,
   "metadata": {},
   "outputs": [],
   "source": [
    "import pathlib\n",
    "import os\n",
    "\n",
    "os.environ['TF_CPP_MIN_LOG_LEVEL'] = '3'\n",
    "from tensorflow import keras\n",
    "\n",
    "import numpy as np\n",
    "import pandas as pd\n",
    "import matplotlib.pyplot as plt\n",
    "\n",
    "import image_classification"
   ]
  },
  {
   "cell_type": "markdown",
   "metadata": {},
   "source": [
    "# 5. Image Classification on Cifar10\n",
    "In the last notebook we used neural networks to classify handwritten digits in images. In this notebook we want to look at slightly more interesting images. The Cifar10 dataset is a collection of 32 x 32 pixel color images that fall into 10 categories. There is also a full Cifar dataset with more images, higher resolution, and more classes. However, since more complex data increases the time for training, we use Cifar10."
   ]
  },
  {
   "cell_type": "markdown",
   "metadata": {},
   "source": [
    "Let's load the dataset and look at some of the images."
   ]
  },
  {
   "cell_type": "code",
   "execution_count": null,
   "metadata": {},
   "outputs": [],
   "source": [
    "# load the dataset\n",
    "(x_train, y_train), (x_test, y_test) = image_classification.load_cifar10() \n",
    "# plot some images from the test set\n",
    "image_classification.visualize_cifar10(images = x_test, labels = y_test)\n",
    "# here we will store the accuracies\n",
    "accuracies = {}"
   ]
  },
  {
   "cell_type": "markdown",
   "metadata": {},
   "source": [
    "Now you can try to find a configuration that gives you a high accuracy. Keep in mind that more parameters and more epochs can increase performance but also the training time. Can you find a good tradeoff? Remember that you should give your runs meaningful names so you can tell them apart. \n"
   ]
  },
  {
   "cell_type": "markdown",
   "metadata": {},
   "source": [
    "Here are some things you can try out:\n",
    "- Add layers or change the number of neurons.\n",
    "- Change the learning rate (learning_rate).\n",
    "- Add Convolutional layers: \n",
    "    - A special kind of layer that works well with images. We usually combine them with MaxPooling operations.\n",
    "    - Usage:\\\n",
    "      keras.layers.Conv2D(32,kernel_size=(3,3)),\\\n",
    "      keras.layers.MaxPooling2D(pool_size=(2,2)),\n",
    "- Dropout layers:\n",
    "    - Adds a probability that some connection in the neural network will be set to 0. This can decrease overfitting.\n",
    "    - We use dropouts only on fully connected layers.\n",
    "    - Usage:\\\n",
    "      keras.layers.Dropout(dropout_probability),"
   ]
  },
  {
   "cell_type": "code",
   "execution_count": null,
   "metadata": {},
   "outputs": [],
   "source": [
    "# give your run a meaningful name\n",
    "run_name = \"cifar_test\"\n",
    "\n",
    "# this is our neural network\n",
    "network = keras.Sequential(\n",
    "    [\n",
    "        keras.Input(shape=(32, 32, 3)),\n",
    "        keras.layers.Flatten(),\n",
    "        keras.layers.Dense(100,activation=\"relu\"),\n",
    "        keras.layers.Dense(10, activation=\"softmax\"),\n",
    "    ]\n",
    ")\n",
    "\n",
    "# compile the model\n",
    "optimizer = keras.optimizers.Adam(learning_rate=0.001)\n",
    "network.compile(loss=\"categorical_crossentropy\", optimizer=optimizer, metrics=[\"accuracy\"])\n",
    "\n",
    "# train the network\n",
    "out = network.fit(x_train, y_train, batch_size=128, epochs=5, verbose=1, validation_data=(x_test, y_test),\n",
    "callbacks=[keras.callbacks.TensorBoard(f\"../logs/{run_name}\")])\n",
    "\n",
    "# this saves the results\n",
    "accuracies[run_name] = {\"train\": out.history[\"accuracy\"], \"test\": out.history[\"val_accuracy\"]}\n",
    "\n",
    "# plot the accuracies over epochs\n",
    "image_classification.plot_accuracies(accuracies)"
   ]
  },
  {
   "cell_type": "markdown",
   "metadata": {},
   "source": [
    "Visualize some of the images with predictions."
   ]
  },
  {
   "cell_type": "code",
   "execution_count": null,
   "metadata": {},
   "outputs": [],
   "source": [
    "# this predicts and visualizes the labels of the test set\n",
    "predictions = network.predict(x_test, verbose=0)\n",
    "image_classification.visualize_cifar10(x_test, labels=y_test, predictions=predictions)"
   ]
  }
 ],
 "metadata": {
  "kernelspec": {
   "display_name": "mintec",
   "language": "python",
   "name": "python3"
  },
  "language_info": {
   "codemirror_mode": {
    "name": "ipython",
    "version": 3
   },
   "file_extension": ".py",
   "mimetype": "text/x-python",
   "name": "python",
   "nbconvert_exporter": "python",
   "pygments_lexer": "ipython3",
   "version": "3.11.0"
  }
 },
 "nbformat": 4,
 "nbformat_minor": 4
}
