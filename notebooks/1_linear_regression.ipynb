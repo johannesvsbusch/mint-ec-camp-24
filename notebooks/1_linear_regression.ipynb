{
 "cells": [
  {
   "cell_type": "code",
   "execution_count": 9,
   "id": "f50cb8d5-9c64-4182-8656-86ef6d894daa",
   "metadata": {},
   "outputs": [],
   "source": [
    "import pathlib\n",
    "import sklearn.metrics\n",
    "import sklearn.linear_model\n",
    "\n",
    "import numpy as np\n",
    "import pandas as pd\n",
    "import matplotlib.pyplot as plt\n",
    "\n",
    "import linear_regression as lr"
   ]
  },
  {
   "cell_type": "markdown",
   "id": "9ec55b00-d5e2-4472-9fde-4f1e50b21159",
   "metadata": {},
   "source": [
    "# 1. Linear Regression\n",
    "\n",
    "From school you know functions of the form $y = f(x)$ and in particular linear functions $y = mx + b$. Both $x \\in \\mathbb{R}$ and $y \\in \\mathbb{R}$ are variables, whereas $m$ and $b$ are parameters. In our first task, we study how to *learn* a dataset with a linear machine learning (ML) model."
   ]
  },
  {
   "cell_type": "markdown",
   "id": "25665c90",
   "metadata": {},
   "source": [
    "## 1.1 Load and Visualize the Dataset\n",
    "Let's load and plot our dataset first!"
   ]
  },
  {
   "cell_type": "code",
   "execution_count": null,
   "id": "161dd260-7b09-432d-8e1f-97dedefcde44",
   "metadata": {},
   "outputs": [],
   "source": [
    "# Load the dataset\n",
    "X, y = lr.load_data()\n",
    "print(X, y)\n",
    "\n",
    "# Plot the dataset\n",
    "lr.scatter_data(X, y)"
   ]
  },
  {
   "cell_type": "markdown",
   "id": "ab3a41b7-c3bc-41b5-b417-1857ead62ff3",
   "metadata": {},
   "source": [
    "Our dataset is a list of $N=200$ data points $(x^{(i)}, y^{(i)})$ with $i=1,2,\\dots,N$. The dataset seems to be somewhat **linear but noisy**. We can express our belief with the following formula:\n",
    "$$ y^{(i)} = f(x^{(i)}) + \\varepsilon = m x^{(i)} + b + \\varepsilon,$$\n",
    "with $\\varepsilon$ as random noise and $(m, b)$ as unknown parameters."
   ]
  },
  {
   "cell_type": "markdown",
   "id": "35fa6272-f93a-40c9-90a9-c95ab1fd666b",
   "metadata": {},
   "source": [
    "### Q1.1\n",
    "1. How large is the dataset?\n",
    "2. What is $x^{(i)}$? What is $y^{(i)}$?\n",
    "3. How many features does each data point have? "
   ]
  },
  {
   "cell_type": "markdown",
   "id": "489ff0ab-a74c-4c72-9feb-a67c902bc7c4",
   "metadata": {},
   "source": [
    "## 1.2 Fitting Parameters Manually\n",
    "We think our data can be **approximated** with a linear function, but the problem is we do not know the parameters $m$ and $b$.\n",
    "Let's begin with a simple approach: we use a **linear model** $\\hat{f}$ of the form\n",
    "$$ \\hat{y}^{(i)} = \\hat{f}(x^{(i)}) = \\theta_0 + \\theta_1 x^{(i)}$$\n",
    "and just guess the model parameters $\\theta = (\\theta_0, \\theta_1)$.\n",
    "The variable $\\hat{y}^{(i)}$ is called the **estimated outcome**.\n",
    "We want it to be close to the **actual outcome** $y^{(i)}$."
   ]
  },
  {
   "cell_type": "code",
   "execution_count": null,
   "id": "47a10cc4-56f4-41a0-ba5c-ec6a9befe4fa",
   "metadata": {},
   "outputs": [],
   "source": [
    "# Choose your model parameters\n",
    "theta_0 = \n",
    "theta_1 = \n",
    "\n",
    "# The linear regression model\n",
    "def linear_regression_model(x):\n",
    "    return theta_0 +  theta_1 * x\n",
    "\n",
    "# Plot the dataset and your model fit\n",
    "lr.plot_prediction(X, y, linear_regression_model)"
   ]
  },
  {
   "cell_type": "markdown",
   "id": "a44de68f-3e67-489e-8be2-45bb271b985e",
   "metadata": {},
   "source": [
    "### Q1.2\n",
    "1. What are the parameters of our model?\n",
    "2. What is $\\hat{y}^{(i)}$?\n",
    "3. Can our dataset be modeled with a linear function $f(x)$ **exactly**? What would that mean in terms of $\\hat{y}^{(i)}$ and $y^{(i)}$?"
   ]
  },
  {
   "cell_type": "markdown",
   "id": "08c475c3-c61e-4870-bde6-609962317484",
   "metadata": {},
   "source": [
    "## 1.3 How Good is our Fit?\n",
    "We found some model parameters using the great **trial and error** problem-solving method by fitting the model to our data **visually**. However, instead of relying on our eyes, let's try to **measure** how well our model fits our data. In ML we use **error metrics** to quantify prediction performance of a model. The prediction error is given by\n",
    "$$e^{(i)} = y^{(i)} - \\hat{y}^{(i)}.$$\n",
    "Let's plot our prediction error for a few data points!"
   ]
  },
  {
   "cell_type": "code",
   "execution_count": null,
   "id": "553d8502-0e9c-475a-a2a6-96a957d42185",
   "metadata": {},
   "outputs": [],
   "source": [
    "lr.plot_prediction_error(X, y, linear_regression_model)"
   ]
  },
  {
   "cell_type": "markdown",
   "id": "97d6e922-4129-4378-bc2e-3dd04687506d",
   "metadata": {},
   "source": [
    "Our error metric is based on the prediction error.\n",
    "It is called **Mean Absolute Error (MAE)**:\n",
    "$$ \\text{MAE}(y, \\hat{y}) = \\frac{1}{N} \\sum_{i=1}^{N} |e^{(i)}| = \\frac{1}{N} \\sum_{i=1}^{N} |y^{(i)} - \\hat{y}^{(i)}|$$"
   ]
  },
  {
   "cell_type": "code",
   "execution_count": null,
   "id": "3fe59adb-6db4-4a31-a6ae-b2cd49c29cba",
   "metadata": {},
   "outputs": [],
   "source": [
    "# Let's predict with our own model\n",
    "y_pred = linear_regression_model(X)\n",
    "mae_own = sklearn.metrics.mean_absolute_error(y, y_pred)\n",
    "print(f\"Our MAE is {mae_own}\")"
   ]
  },
  {
   "cell_type": "markdown",
   "id": "9df920e2-177d-4b0d-8ecd-9bfd7dd1f068",
   "metadata": {},
   "source": [
    "## 1.4 Automatically Fitting Parameters with ML\n",
    "To predict linear functions we can use a ML model called Linear Regression (LR).\n",
    "Let's see which parameters $\\theta$ are found by the LR model and the MAE it achieves on our dataset."
   ]
  },
  {
   "cell_type": "code",
   "execution_count": null,
   "id": "a0030454-1fc5-476d-b31e-fd22f45aec14",
   "metadata": {},
   "outputs": [],
   "source": [
    "# Fit a linear regression (LR) model\n",
    "reg = sklearn.linear_model.LinearRegression()\n",
    "reg.fit(X, y)\n",
    "\n",
    "# Print the learned parameters\n",
    "print(f\"The learned parameters are theta={[reg.intercept_, *reg.coef_]}\")\n",
    "y_pred = reg.predict(X)\n",
    "lr.plot_prediction(X, y, reg)\n",
    "\n",
    "# Print the MAE of the LR model\n",
    "mae_lr = sklearn.metrics.mean_absolute_error(y, y_pred)\n",
    "print(f\"The MAE of the LR model is {mae_lr}\")"
   ]
  },
  {
   "cell_type": "markdown",
   "id": "e0ab0486-51e6-4b29-81aa-badf6459eccc",
   "metadata": {},
   "source": [
    "### Q1.4\n",
    "1. Explain what the MAE measures.\n",
    "2. What do we *learn* when we train our model?\n",
    "3. Is your model similar to the LR model?"
   ]
  }
 ],
 "metadata": {
  "kernelspec": {
   "display_name": "mintec",
   "language": "python",
   "name": "python3"
  },
  "language_info": {
   "codemirror_mode": {
    "name": "ipython",
    "version": 3
   },
   "file_extension": ".py",
   "mimetype": "text/x-python",
   "name": "python",
   "nbconvert_exporter": "python",
   "pygments_lexer": "ipython3",
   "version": "3.11.0"
  }
 },
 "nbformat": 4,
 "nbformat_minor": 5
}
